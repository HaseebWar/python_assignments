{
 "cells": [
  {
   "cell_type": "markdown",
   "id": "feff64d6-221b-40ba-9039-9366db7c52bc",
   "metadata": {},
   "source": [
    "#### Write a program that accepts a list from user and print the alternate element of list."
   ]
  },
  {
   "cell_type": "code",
   "execution_count": 46,
   "id": "ccee74bb-f381-4e64-8d45-e0f6d75df19d",
   "metadata": {},
   "outputs": [
    {
     "name": "stdin",
     "output_type": "stream",
     "text": [
      "Enter numbers separated by spaces:  10 20 30 40 50 60 70 80\n"
     ]
    },
    {
     "name": "stdout",
     "output_type": "stream",
     "text": [
      "[10, 30, 50, 70]\n"
     ]
    }
   ],
   "source": [
    "first_list1 = list(map(int, input(\"Enter numbers separated by spaces: \").split()))\n",
    "## another way of printing\n",
    "second_list2 = []\n",
    "second_list2 = first_list1[::2]\n",
    "print(second_list2)"
   ]
  },
  {
   "cell_type": "markdown",
   "id": "cfc99314-91ee-4e6c-8d32-b6397310e19b",
   "metadata": {},
   "source": [
    "#### Write a program that accepts a list from user. Your program should reverse the content of list and display it. Do not use reverse() method. "
   ]
  },
  {
   "cell_type": "code",
   "execution_count": 159,
   "id": "5fc5531d-eba5-48db-8591-666e9306ccbc",
   "metadata": {},
   "outputs": [
    {
     "name": "stdin",
     "output_type": "stream",
     "text": [
      "Enter numbers separated by spaces:  11 22 44 88 44 99\n"
     ]
    },
    {
     "name": "stdout",
     "output_type": "stream",
     "text": [
      "[99, 44, 88, 44, 22, 11]\n"
     ]
    }
   ],
   "source": [
    "list_content = list(map(int, input(\"Enter numbers separated by spaces: \").split()))\n",
    "reversed_list = []\n",
    "for i in range(len(list_content) - 1, -1, -1):\n",
    "    reversed_list.append(list_content[i])\n",
    "\n",
    "print(reversed_list)\n",
    "\n",
    "## another way to Reversing a List\n",
    "a = list_content [::-1]\n",
    "print(a)"
   ]
  },
  {
   "cell_type": "markdown",
   "id": "c534b2f6-2c23-4d3d-b4b1-bbc347ec129f",
   "metadata": {},
   "source": [
    "#### Find and display the largest number of a list without using built-in function max(). Your program should ask the user to input values in list from keyboard."
   ]
  },
  {
   "cell_type": "code",
   "execution_count": 161,
   "id": "70a9bc82-8df3-4161-9e9c-215b5254126a",
   "metadata": {},
   "outputs": [
    {
     "name": "stdin",
     "output_type": "stream",
     "text": [
      "Enter numbers separated by spaces:  11 55 44 88 44\n"
     ]
    },
    {
     "name": "stdout",
     "output_type": "stream",
     "text": [
      "88\n"
     ]
    }
   ],
   "source": [
    "large_ele = list(map(int, input(\"Enter numbers separated by spaces: \").split()))\n",
    "large_ele.sort()\n",
    "print(large_ele[-1])"
   ]
  },
  {
   "cell_type": "code",
   "execution_count": 147,
   "id": "bee19c94-e315-4fd6-b4c7-b50c2366cc6e",
   "metadata": {},
   "outputs": [
    {
     "name": "stdin",
     "output_type": "stream",
     "text": [
      "Enter numbers separated by spaces:  11 9 56 33\n"
     ]
    },
    {
     "name": "stdout",
     "output_type": "stream",
     "text": [
      "56\n"
     ]
    }
   ],
   "source": [
    "a = list(map(int, input(\"Enter numbers separated by spaces: \").split()))\n",
    "\n",
    "largest = a[0]\n",
    "\n",
    "for val in a:\n",
    "    if val > largest:\n",
    "        largest = val\n",
    "\n",
    "print(largest)"
   ]
  },
  {
   "cell_type": "markdown",
   "id": "3672ba63-1716-45d2-98d1-fdc12c7e3692",
   "metadata": {},
   "source": [
    "#### Write a program that rotates the element of a list so that the element at the first index moves to the second index, the element in the second index moves to the third index, etc., and the element in the last index moves to the first index."
   ]
  },
  {
   "cell_type": "code",
   "execution_count": 3,
   "id": "5fee50aa-f62f-4de3-979c-13801253d425",
   "metadata": {},
   "outputs": [
    {
     "name": "stdout",
     "output_type": "stream",
     "text": [
      "[6, 1, 5, 6, 8, 0, 4, 3]\n"
     ]
    }
   ],
   "source": [
    "main_list = [1,5,6,8,0,4,3,6]\n",
    "main_list = main_list[-1:] + main_list[:-1]\n",
    "print(main_list)"
   ]
  },
  {
   "cell_type": "code",
   "execution_count": 5,
   "id": "1109baae-e0d0-43be-9e06-1907cfee6684",
   "metadata": {},
   "outputs": [
    {
     "name": "stdin",
     "output_type": "stream",
     "text": [
      "Add a string in string variable:  haseeb\n",
      "Now remove any word of your choice (just 1):  h\n"
     ]
    },
    {
     "name": "stdout",
     "output_type": "stream",
     "text": [
      "Final word is: aseeb\n"
     ]
    }
   ],
   "source": [
    "str_user = input(\"Add a string in string variable: \")\n",
    "rem_str = input(\"Now remove any word of your choice (just 1): \")\n",
    "str_user = str_user.replace(rem_str, \"\") \n",
    "print(\"Final word is:\", str_user)"
   ]
  },
  {
   "cell_type": "code",
   "execution_count": 7,
   "id": "8326d332-d208-4a7b-af76-3d6d3c0b0f79",
   "metadata": {},
   "outputs": [
    {
     "name": "stdin",
     "output_type": "stream",
     "text": [
      "Enter your date in this format mm/dd/yyyy:  12/4/2004\n"
     ]
    },
    {
     "name": "stdout",
     "output_type": "stream",
     "text": [
      "Formatted date:  December 04, 2004\n"
     ]
    }
   ],
   "source": [
    "from datetime import datetime\n",
    "\n",
    "data = input(\"Enter your date in this format mm/dd/yyyy: \")\n",
    "date_ob = datetime.strptime(data, \"%m/%d/%Y\")\n",
    "for_date = date_ob.strftime(\"%B %d, %Y\")\n",
    "print(\"Formatted date: \",for_date)"
   ]
  },
  {
   "cell_type": "code",
   "execution_count": 9,
   "id": "606cdb6b-b8cb-4e66-bb53-734b68a526ac",
   "metadata": {},
   "outputs": [
    {
     "data": {
      "text/plain": [
       "'Stop And Smell The Roses'"
      ]
     },
     "execution_count": 9,
     "metadata": {},
     "output_type": "execute_result"
    }
   ],
   "source": [
    "name_str = \"stop and smell the roses\"\n",
    "name_str = name_str.title()\n",
    "name_str"
   ]
  },
  {
   "cell_type": "code",
   "execution_count": 11,
   "id": "b18ca1a4-38a0-414d-8188-f685ca75c4be",
   "metadata": {},
   "outputs": [
    {
     "name": "stdout",
     "output_type": "stream",
     "text": [
      "Sum of row 1 is:  32\n",
      "Sum of row 2 is:  31\n",
      "Sum of row 3 is:  63\n"
     ]
    }
   ],
   "source": [
    "max_list = [[2,11,7,12],[5,2,9,15],[8,3,10,42]]\n",
    "sum_row1 = max_list[0][0] + max_list[0][1] + max_list[0][2] + max_list[0][3]\n",
    "sum_row2 = max_list[1][0] + max_list[1][1] + max_list[1][2] + max_list[1][3]\n",
    "sum_row3 = max_list[2][0] + max_list[2][1] + max_list[2][2] + max_list[2][3]\n",
    "print(\"Sum of row 1 is: \",sum_row1)\n",
    "print(\"Sum of row 2 is: \",sum_row2)\n",
    "print(\"Sum of row 3 is: \",sum_row3)"
   ]
  },
  {
   "cell_type": "code",
   "execution_count": 13,
   "id": "0cacc7c7-c520-4cd6-870a-3961bc82175e",
   "metadata": {},
   "outputs": [
    {
     "name": "stdout",
     "output_type": "stream",
     "text": [
      "[[3, 13, 10], [9, 7, 15], [15, 11, 19]]\n"
     ]
    }
   ],
   "source": [
    "matrix1 = [\n",
    "    [2, 11, 7],\n",
    "    [5, 2, 9],\n",
    "    [8, 3, 10]\n",
    "]\n",
    "\n",
    "matrix2 = [\n",
    "    [1, 2, 3],\n",
    "    [4, 5, 6],\n",
    "    [7, 8, 9]\n",
    "]\n",
    "\n",
    "rows = len(matrix1)\n",
    "cols = len(matrix1[0])\n",
    "result = [[0 for _ in range(cols)] for _ in range(rows)]\n",
    "\n",
    "# Add the matrices element by element\n",
    "for i in range(rows):\n",
    "    for j in range(cols):\n",
    "        result[i][j] = matrix1[i][j] + matrix2[i][j]\n",
    "\n",
    "print(result)"
   ]
  },
  {
   "cell_type": "code",
   "execution_count": 15,
   "id": "fd2993b1-50f6-4f6a-a1f9-2d96f978d8e7",
   "metadata": {},
   "outputs": [
    {
     "name": "stdout",
     "output_type": "stream",
     "text": [
      "[45, 105, 165]\n",
      "[36, 84, 132]\n",
      "[44, 107, 170]\n"
     ]
    }
   ],
   "source": [
    "def multiply_matrices(matrix1, matrix2):\n",
    "    # Get the dimensions of the matrices\n",
    "    rows1 = len(matrix11)\n",
    "    cols1 = len(matrix11[0])\n",
    "    rows2 = len(matrix12)\n",
    "    cols2 = len(matrix12[0])\n",
    "    # Initialize the result matrix with zeros\n",
    "    result = [[0 for _ in range(cols2)] for _ in range(rows1)]\n",
    "\n",
    "    # Multiply the matrices\n",
    "    for i in range(rows1):\n",
    "        for j in range(cols2):\n",
    "            for k in range(cols1):\n",
    "                result[i][j] += matrix11[i][k] * matrix12[k][j]\n",
    "\n",
    "    return result\n",
    "\n",
    "matrix11 = [\n",
    "    [2, 11, 7],\n",
    "    [5, 2, 9],\n",
    "    [8, 3, 10]\n",
    "]\n",
    "\n",
    "matrix12 = [\n",
    "    [1, 4, 7],\n",
    "    [2, 5, 8],\n",
    "    [3, 6, 9]\n",
    "]\n",
    "\n",
    "result = multiply_matrices(matrix11, matrix12)\n",
    "\n",
    "# Print the result\n",
    "for row in result:\n",
    "    print(row)\n"
   ]
  },
  {
   "cell_type": "code",
   "execution_count": null,
   "id": "87c3981c-669e-4f4c-ac4b-cc75bef7a059",
   "metadata": {},
   "outputs": [],
   "source": []
  }
 ],
 "metadata": {
  "kernelspec": {
   "display_name": "Python 3 (ipykernel)",
   "language": "python",
   "name": "python3"
  },
  "language_info": {
   "codemirror_mode": {
    "name": "ipython",
    "version": 3
   },
   "file_extension": ".py",
   "mimetype": "text/x-python",
   "name": "python",
   "nbconvert_exporter": "python",
   "pygments_lexer": "ipython3",
   "version": "3.12.7"
  }
 },
 "nbformat": 4,
 "nbformat_minor": 5
}
