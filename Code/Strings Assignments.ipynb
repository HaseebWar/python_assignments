{
 "cells": [
  {
   "cell_type": "code",
   "execution_count": 1,
   "id": "63ab1195-5892-4689-879a-1a9c65fda279",
   "metadata": {},
   "outputs": [
    {
     "name": "stdout",
     "output_type": "stream",
     "text": [
      "Strings Assignments\n"
     ]
    }
   ],
   "source": [
    "print(\"Strings Assignments\")"
   ]
  },
  {
   "cell_type": "markdown",
   "id": "fa977b98-4bd0-4f72-be08-09abe4c6b880",
   "metadata": {},
   "source": [
    "### Write a program that accepts a string from user. Your program should count and display number of vowels in that string."
   ]
  },
  {
   "cell_type": "code",
   "execution_count": 27,
   "id": "98097ce2-3eed-4a8d-a13a-d4f0af9f10b8",
   "metadata": {},
   "outputs": [
    {
     "name": "stdin",
     "output_type": "stream",
     "text": [
      "Enter the string Haseeb\n"
     ]
    },
    {
     "name": "stdout",
     "output_type": "stream",
     "text": [
      "Number of Vowels:  3\n"
     ]
    }
   ],
   "source": [
    "vowels_str = input(\"Enter the string\")\n",
    "vowels = \"aeiouAEIOU\"\n",
    "count = 0\n",
    "for i in vowels_str:\n",
    "    if i in vowels:\n",
    "        count +=1\n",
    "\n",
    "print(\"Number of Vowels: \",count)"
   ]
  },
  {
   "cell_type": "markdown",
   "id": "07c56f76-6287-4c1f-a2e2-699ecdb13c6c",
   "metadata": {},
   "source": [
    "## 2. Write a program that reads a string from keyboard and display:\n",
    "- The number of uppercase letters in the string\n",
    "- The number of lowercase letters in the string\n",
    "- The number of digits in the string\n",
    "- The number of whitespace characters in the string"
   ]
  },
  {
   "cell_type": "code",
   "execution_count": 37,
   "id": "b9bfce93-1296-491a-bfc8-011f40b88399",
   "metadata": {},
   "outputs": [
    {
     "name": "stdout",
     "output_type": "stream",
     "text": [
      "Upper Case Count 5\n",
      "Lower Case Count 26\n",
      "Digits Case Count 3\n",
      "Whitespace Case Count 6\n"
     ]
    }
   ],
   "source": [
    "long_string = \"I am Learning Cloud Data Engineering 123\"\n",
    "uppercount = 0\n",
    "lowercount = 0\n",
    "digitscount = 0\n",
    "whitespace = 0\n",
    "for i in long_string:\n",
    "    if i.isupper():\n",
    "        uppercount +=1\n",
    "    elif i.islower():\n",
    "        lowercount +=1\n",
    "    elif i.isdigit():\n",
    "        digitscount +=1\n",
    "    elif i.isspace():\n",
    "        whitespace +=1\n",
    "\n",
    "print(\"Upper Case Count\", uppercount)\n",
    "print(\"Lower Case Count\", lowercount)\n",
    "print(\"Digits Case Count\", digitscount)\n",
    "print(\"Whitespace Case Count\", whitespace)"
   ]
  },
  {
   "cell_type": "markdown",
   "id": "a7c53ce0-683b-46fc-aff7-27e8eeb55fc7",
   "metadata": {},
   "source": [
    "### Write a Python program that accepts a string from user. Your program should create and display a new string where the first and last characters have been exchanged."
   ]
  },
  {
   "cell_type": "code",
   "execution_count": 69,
   "id": "02198a87-0f61-4617-9bc3-2a7ff749a8e4",
   "metadata": {},
   "outputs": [
    {
     "name": "stdout",
     "output_type": "stream",
     "text": [
      "dxchangeE\n"
     ]
    }
   ],
   "source": [
    "Test_str = \"Exchanged\"\n",
    "if len(Test_str) > 2:\n",
    "    start = Test_str[0]\n",
    "    end = Test_str[-1]\n",
    "new_str = end +  Test_str[1:-1] + start\n",
    "print(new_str)"
   ]
  },
  {
   "cell_type": "markdown",
   "id": "c4247261-ff28-4c20-808f-bfd9d7345dbc",
   "metadata": {},
   "source": [
    "### For example if the user enters the string 'HELLO' then new string would be 'OELLH'"
   ]
  },
  {
   "cell_type": "code",
   "execution_count": 80,
   "id": "9d5e4a13-1d5a-4f7b-8aab-1ab1be1f2ac0",
   "metadata": {},
   "outputs": [
    {
     "name": "stdout",
     "output_type": "stream",
     "text": [
      "OELLH\n"
     ]
    }
   ],
   "source": [
    "Test_str = \"HELLO\"\n",
    "if len(Test_str) > 2:\n",
    "    start = Test_str[0]\n",
    "    end = Test_str[-1]\n",
    "new_str = end +  Test_str[1:-1] + start\n",
    "print(new_str)"
   ]
  },
  {
   "cell_type": "markdown",
   "id": "11058081-69f9-4d4b-a012-4b98052a1406",
   "metadata": {},
   "source": [
    "### Write a Python program that accepts a string from user. Your program should create a new string in reverse of first string and display it."
   ]
  },
  {
   "cell_type": "code",
   "execution_count": 89,
   "id": "74a1b5cf-4c63-4608-a202-97c650f2931f",
   "metadata": {},
   "outputs": [
    {
     "name": "stdout",
     "output_type": "stream",
     "text": [
      "New string: MAXE\n"
     ]
    }
   ],
   "source": [
    "another_str = \"EXAM\"\n",
    "new = another_str[::-1]\n",
    "print(\"New string:\",new)"
   ]
  },
  {
   "cell_type": "markdown",
   "id": "56420253-2035-4870-bc65-339d910a8ff3",
   "metadata": {},
   "source": [
    "### Write a Python program that accepts a string from user. Your program should create a new string by shifting one position to left."
   ]
  },
  {
   "cell_type": "code",
   "execution_count": 96,
   "id": "08c26513-4d26-47a1-bd01-59b52f4aea89",
   "metadata": {},
   "outputs": [
    {
     "name": "stdout",
     "output_type": "stream",
     "text": [
      "xamination 2021e\n"
     ]
    }
   ],
   "source": [
    "shift_str = \"examination 2021\"\n",
    "if len(shift_str) > 2:\n",
    "    start = shift_str[0]\n",
    "new_str1 = shift_str[1::] + start\n",
    "print(new_str1)"
   ]
  },
  {
   "cell_type": "code",
   "execution_count": 106,
   "id": "c350710b-c772-4e9a-8349-bb9506c4862b",
   "metadata": {},
   "outputs": [
    {
     "name": "stdin",
     "output_type": "stream",
     "text": [
      "Please enter your initials:  Muhammad Haseeb Bhatti\n"
     ]
    },
    {
     "name": "stdout",
     "output_type": "stream",
     "text": [
      "Your Initials: MHB\n"
     ]
    }
   ],
   "source": [
    "initials = input(\"Please enter your initials: \")\n",
    "initials_text = \"\"\n",
    "\n",
    "for i in range(len(initials)):\n",
    "    if i == 0 or initials[i-1] == \" \":\n",
    "        initials_text += initials[i].upper()\n",
    "\n",
    "print(\"Your Initials:\", initials_text)"
   ]
  },
  {
   "cell_type": "markdown",
   "id": "f0c70e65-687b-4c85-901d-c2c072b823b3",
   "metadata": {},
   "source": [
    "### A palindrome is a string that reads the same backward as forward. For example, the words dad, madam and radar are all palindromes. Write a programs that determines whether the string is a palindrome."
   ]
  },
  {
   "cell_type": "code",
   "execution_count": 5,
   "id": "e431108d-378d-4df0-9bf6-47510365102c",
   "metadata": {},
   "outputs": [
    {
     "name": "stdin",
     "output_type": "stream",
     "text": [
      "Enter Palindrome String adeel\n"
     ]
    },
    {
     "name": "stdout",
     "output_type": "stream",
     "text": [
      "The String is not Palindrome\n"
     ]
    }
   ],
   "source": [
    "pad_str = input(\"Enter Palindrome String\")\n",
    "pad_start = pad_str[0]\n",
    "pad_end = pad_str[-1]\n",
    "pad_str1 = pad_end +  pad_str[1:-1] + pad_start\n",
    "pad_str2 = pad_start +  pad_str[1:-1] + pad_end\n",
    "\n",
    "if pad_str1 == pad_str2: \n",
    "    print(\"The String is Palindrome\", pad_str)\n",
    "else:\n",
    "    print(\"The String is not Palindrome\")"
   ]
  },
  {
   "cell_type": "markdown",
   "id": "3f55161e-4796-47cc-9d1f-97b631ee3a3c",
   "metadata": {},
   "source": [
    "### Write a program that display following output:\n",
    "- SHIFT\n",
    "- HIFTS\n",
    "- IFTSH\n",
    "- FTSHI\n",
    "- TSHIF\n",
    "- SHIFT"
   ]
  },
  {
   "cell_type": "code",
   "execution_count": 143,
   "id": "0cc56515-7569-4027-a2c8-53f716529e71",
   "metadata": {},
   "outputs": [
    {
     "name": "stdout",
     "output_type": "stream",
     "text": [
      "SHIFT\n",
      "HIFTS\n",
      "IFTSH\n",
      "FTSHI\n",
      "TSHIF\n"
     ]
    }
   ],
   "source": [
    "new_pro = \"SHIFT\"\n",
    "for i in range(len(new_pro)):\n",
    "    shifted_string = new_pro[i:] + new_pro[:i]\n",
    "    print(shifted_string)"
   ]
  },
  {
   "cell_type": "markdown",
   "id": "db4d5a01-0f8f-4932-9f2b-fe1422ad8b06",
   "metadata": {},
   "source": [
    "### Write a program in python that accepts a string to setup a passwords. Your entered password must meet the following requirements:\n",
    "\n",
    "- The password must be at least eight characters long.\n",
    "- It must contain at least one uppercase letter.\n",
    "- It must contain at least one lowercase letter.\n",
    "- It must contain at least one numeric digit.\n",
    "- Your program should should perform this validation."
   ]
  },
  {
   "cell_type": "code",
   "execution_count": 154,
   "id": "c4f200a3-125d-41c2-b7e3-57675f9a0dec",
   "metadata": {},
   "outputs": [
    {
     "name": "stdin",
     "output_type": "stream",
     "text": [
      "Setup your Password:  HAseeb123\n"
     ]
    },
    {
     "name": "stdout",
     "output_type": "stream",
     "text": [
      "Password is set:  HAseeb123\n"
     ]
    }
   ],
   "source": [
    "new_pass = input(\"Setup your Password: \")\n",
    "\n",
    "if len(new_pass) >= 8 and any(char.isupper() for char in new_pass) and \\\n",
    "   any(char.islower() for char in new_pass) and any(char.isdigit() for char in new_pass):\n",
    "    print(\"Password is set: \", new_pass)\n",
    "else:\n",
    "    print(\"Password is not set. Make sure it has:\")\n",
    "    print(\"At least one uppercase letter.\")\n",
    "    print(\"At least one lowercase letter.\")\n",
    "    print(\"At least one numeric digit.\")\n",
    "    print(\"At least 8 characters.\")"
   ]
  },
  {
   "cell_type": "code",
   "execution_count": null,
   "id": "c6f1f307-1f1b-4378-91ff-c6a403f77003",
   "metadata": {},
   "outputs": [],
   "source": []
  }
 ],
 "metadata": {
  "kernelspec": {
   "display_name": "Python 3 (ipykernel)",
   "language": "python",
   "name": "python3"
  },
  "language_info": {
   "codemirror_mode": {
    "name": "ipython",
    "version": 3
   },
   "file_extension": ".py",
   "mimetype": "text/x-python",
   "name": "python",
   "nbconvert_exporter": "python",
   "pygments_lexer": "ipython3",
   "version": "3.12.7"
  }
 },
 "nbformat": 4,
 "nbformat_minor": 5
}
