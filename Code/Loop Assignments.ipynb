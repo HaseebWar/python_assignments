{
 "cells": [
  {
   "cell_type": "markdown",
   "id": "3886e9b4-1c33-4b6c-9d46-072d709ee209",
   "metadata": {},
   "source": [
    "#### Write a Python program to print the numbers from 1 to 10 using a for loop."
   ]
  },
  {
   "cell_type": "code",
   "execution_count": 3,
   "id": "6263c06f-7111-42d0-8047-c4a56649b2f9",
   "metadata": {},
   "outputs": [
    {
     "name": "stdout",
     "output_type": "stream",
     "text": [
      "1\n",
      "2\n",
      "3\n",
      "4\n",
      "5\n",
      "6\n",
      "7\n",
      "8\n",
      "9\n",
      "10\n"
     ]
    }
   ],
   "source": [
    "for i in range(1,11):\n",
    "    print(i)"
   ]
  },
  {
   "cell_type": "markdown",
   "id": "cfb21270-820b-4245-b2a6-a5fddb2f7edd",
   "metadata": {},
   "source": [
    "#### Write a Python program to print the numbers from 20 to 1 using a while loop."
   ]
  },
  {
   "cell_type": "code",
   "execution_count": 3,
   "id": "9261a276-619e-409d-be40-4903703c821b",
   "metadata": {},
   "outputs": [
    {
     "name": "stdout",
     "output_type": "stream",
     "text": [
      "1\n",
      "2\n",
      "3\n",
      "4\n",
      "5\n",
      "6\n",
      "7\n",
      "8\n",
      "9\n",
      "10\n",
      "11\n",
      "12\n",
      "13\n",
      "14\n",
      "15\n",
      "16\n",
      "17\n",
      "18\n",
      "19\n",
      "20\n"
     ]
    }
   ],
   "source": [
    "number = 1\n",
    "while number < 21:\n",
    "    print(number)\n",
    "    number += 1"
   ]
  },
  {
   "cell_type": "markdown",
   "id": "cb3eacfe-180d-4c27-b41f-305700fc2421",
   "metadata": {},
   "source": [
    "#### Write a program to print even numbers from 1 to 10."
   ]
  },
  {
   "cell_type": "code",
   "execution_count": 6,
   "id": "d7c92d18-17f9-49fa-9445-d57b2bcd4d7e",
   "metadata": {},
   "outputs": [
    {
     "name": "stdout",
     "output_type": "stream",
     "text": [
      "2\n",
      "4\n",
      "6\n",
      "8\n",
      "10\n"
     ]
    }
   ],
   "source": [
    "for i in range(1,11):\n",
    "    if (i % 2) == 0:\n",
    "        print(i)"
   ]
  },
  {
   "cell_type": "markdown",
   "id": "35eb145f-58ec-476e-878e-83d72cbf9071",
   "metadata": {},
   "source": [
    "#### Write a program that prompts the user to enter a number n and prints all the numbers from 1 to n."
   ]
  },
  {
   "cell_type": "code",
   "execution_count": 19,
   "id": "41747d74-dc84-46e3-9e08-d4771be6e931",
   "metadata": {},
   "outputs": [
    {
     "name": "stdin",
     "output_type": "stream",
     "text": [
      "Enter your number 10\n"
     ]
    },
    {
     "name": "stdout",
     "output_type": "stream",
     "text": [
      "1\n",
      "2\n",
      "3\n",
      "4\n",
      "5\n",
      "6\n",
      "7\n",
      "8\n",
      "9\n",
      "10\n"
     ]
    }
   ],
   "source": [
    "n = int(input(\"Enter your number\"))\n",
    "for i in range(1, n+1):\n",
    "    print(i)"
   ]
  },
  {
   "cell_type": "markdown",
   "id": "03cabe27-6e1b-498c-b3fb-e85078e79e21",
   "metadata": {},
   "source": [
    "#### Write a program that prompts the user to enter a number n, and then prints all the odd numbers between 1 and n."
   ]
  },
  {
   "cell_type": "code",
   "execution_count": 24,
   "id": "1fe17660-31c2-472a-848e-ead11ea6b2eb",
   "metadata": {},
   "outputs": [
    {
     "name": "stdin",
     "output_type": "stream",
     "text": [
      "Enter your number tp print odd numbers between 1 and n. 12\n"
     ]
    },
    {
     "name": "stdout",
     "output_type": "stream",
     "text": [
      "1\n",
      "3\n",
      "5\n",
      "7\n",
      "9\n",
      "11\n"
     ]
    }
   ],
   "source": [
    "odd_num = int(input(\"Enter your number tp print odd numbers between 1 and n.\"))\n",
    "for i in range(1, odd_num):\n",
    "    if (i % 2) == 1:\n",
    "        print(i)"
   ]
  },
  {
   "cell_type": "code",
   "execution_count": 28,
   "id": "97dde3d6-9c74-4d19-b28b-c0e939444146",
   "metadata": {},
   "outputs": [
    {
     "name": "stdout",
     "output_type": "stream",
     "text": [
      "Happy Birthday!\n",
      "Happy Birthday!\n",
      "Happy Birthday!\n",
      "Happy Birthday!\n",
      "Happy Birthday!\n"
     ]
    }
   ],
   "source": [
    "for i in range(0,5):\n",
    "    print(\"Happy Birthday!\")"
   ]
  },
  {
   "cell_type": "markdown",
   "id": "935650cd-a4cd-4b47-9a0f-05de6a0b8f4a",
   "metadata": {},
   "source": [
    "#### Write a program that takes a number n as input from the user and generates the first n terms of the series formed by squaring the natural numbers.\n",
    "#### Sample output\n",
    "- Enter a number: 6\n",
    "- The first 6 terms of the series are:\n",
    "- 1 4 9 16 25 36"
   ]
  },
  {
   "cell_type": "code",
   "execution_count": 51,
   "id": "74bb223d-b387-4ada-80ad-5f96a813f1aa",
   "metadata": {},
   "outputs": [
    {
     "name": "stdin",
     "output_type": "stream",
     "text": [
      "Enter number to show the series 6\n"
     ]
    },
    {
     "name": "stdout",
     "output_type": "stream",
     "text": [
      "1\n",
      "4\n",
      "9\n",
      "16\n",
      "25\n"
     ]
    }
   ],
   "source": [
    "terms_seq = int(input(\"Enter number to show the series\"))\n",
    "for i in range(1, terms_seq):\n",
    "    num = pow(i,2)\n",
    "    print(num)"
   ]
  },
  {
   "cell_type": "markdown",
   "id": "66c11ab0-e6d6-4d9a-84fd-140059b814c0",
   "metadata": {},
   "source": [
    "#### Write a program that prompts the user to input a number and prints its multiplication table."
   ]
  },
  {
   "cell_type": "code",
   "execution_count": 94,
   "id": "03fec565-76ac-4ad6-82ce-36909e19d7e4",
   "metadata": {},
   "outputs": [
    {
     "name": "stdin",
     "output_type": "stream",
     "text": [
      "Enter the number to print its table 7\n"
     ]
    },
    {
     "name": "stdout",
     "output_type": "stream",
     "text": [
      "7 x 1 = 7\n",
      "7 x 2 = 14\n",
      "7 x 3 = 21\n",
      "7 x 4 = 28\n",
      "7 x 5 = 35\n",
      "7 x 6 = 42\n",
      "7 x 7 = 49\n",
      "7 x 8 = 56\n",
      "7 x 9 = 63\n",
      "7 x 10 = 70\n"
     ]
    }
   ],
   "source": [
    "table_num = int(input(\"Enter the number to print its table\"))\n",
    "for i in range(1,11):\n",
    "    print(table_num , 'x' , i , '=' , (i * table_num))"
   ]
  },
  {
   "cell_type": "markdown",
   "id": "612f4600-7f76-45de-97ea-7c8d968b2333",
   "metadata": {},
   "source": [
    "#### Write a Python program to print the first 8 terms of an arithmetic progression starting with 3 and having a common difference of 4.\n",
    "- The program should output the following sequence:\n",
    "- 3 7 11 15 19 23 27 31"
   ]
  },
  {
   "cell_type": "code",
   "execution_count": 92,
   "id": "a6b2f436-2eba-4b0c-b4d5-8cbfdc513036",
   "metadata": {},
   "outputs": [
    {
     "name": "stdin",
     "output_type": "stream",
     "text": [
      "Enter the number of terms to print:  8\n"
     ]
    },
    {
     "name": "stdout",
     "output_type": "stream",
     "text": [
      "3\n",
      "7\n",
      "11\n",
      "15\n",
      "19\n",
      "23\n",
      "27\n",
      "31\n"
     ]
    }
   ],
   "source": [
    "ari_n = int(input(\"Enter the number of terms to print: \"))\n",
    "value = 3\n",
    "\n",
    "for i in range(ari_n):\n",
    "    print(value)\n",
    "    value += 4"
   ]
  },
  {
   "cell_type": "markdown",
   "id": "aedb551a-d6f8-4376-9b6d-cf5ff1a4eb00",
   "metadata": {},
   "source": [
    "### Write a Python program to print the first 6 terms of a geometric sequence starting with 2 and having a common ratio of 3.\n",
    "- The program should output the following sequence:\n",
    "- 2 6 18 54 162 486"
   ]
  },
  {
   "cell_type": "code",
   "execution_count": 101,
   "id": "53a751ed-c617-4c11-b2c4-db86d0d3fe47",
   "metadata": {},
   "outputs": [
    {
     "name": "stdout",
     "output_type": "stream",
     "text": [
      "2 6 18 54 162 486 "
     ]
    }
   ],
   "source": [
    "value = 2\n",
    "for j in range(6):\n",
    "    print(value, end=\" \")  \n",
    "    value *= 3 "
   ]
  },
  {
   "cell_type": "markdown",
   "id": "88bbf0ef-0ca3-4952-b47b-e4de7d8e1fb9",
   "metadata": {},
   "source": [
    "#### Write a program that asks the user for a positive integer value. The program should calculate the sum of all the integers from 1 up to the number entered. For example, if the user enters 20, the loop will find the sum of 1, 2, 3, 4, ... 20"
   ]
  },
  {
   "cell_type": "code",
   "execution_count": 28,
   "id": "bb1c7ff4-0a81-4710-a0fc-b834009a2729",
   "metadata": {},
   "outputs": [
    {
     "name": "stdin",
     "output_type": "stream",
     "text": [
      "Enter any number a positive integer value:  5\n"
     ]
    },
    {
     "name": "stdout",
     "output_type": "stream",
     "text": [
      "15\n"
     ]
    }
   ],
   "source": [
    "value = 0\n",
    "pos_num = int(input(\"Enter any number a positive integer value: \"))\n",
    "for i in range(1, pos_num + 1):\n",
    "    if i > 0:\n",
    "        value += i\n",
    "    else:\n",
    "        print(\"Enter a positive value\")\n",
    "        \n",
    "print(value)"
   ]
  },
  {
   "cell_type": "markdown",
   "id": "7bc0ecb8-0227-445f-b1ee-d6915434ab36",
   "metadata": {},
   "source": [
    "#### write a program that takes a positive integer N as input and calculates the sum of the reciprocals of all numbers from 1 up to N. The program should display the final sum. \n",
    "- Output of the program should be like:\n",
    "- Enter a positive integer: 5\n",
    "- The sum of reciprocals from 1 to 5 is: 2.28 \n"
   ]
  },
  {
   "cell_type": "code",
   "execution_count": 49,
   "id": "6f1f7b12-49d5-4e65-8944-3b64b0467685",
   "metadata": {},
   "outputs": [
    {
     "name": "stdin",
     "output_type": "stream",
     "text": [
      "Enter a positive integer:  5\n"
     ]
    },
    {
     "name": "stdout",
     "output_type": "stream",
     "text": [
      "The sum of reciprocals from 1 to 5 is:  2.283333333333333\n"
     ]
    }
   ],
   "source": [
    "rep_sum = 0.0\n",
    "value = 0\n",
    "rep_num = int(input(\"Enter a positive integer: \"))\n",
    "for i in range(1, rep_num + 1):\n",
    "    if i > 0:\n",
    "        value += 1 / i\n",
    "    else:\n",
    "        print(\"Enter a positive value\")\n",
    "\n",
    "print(\"The sum of reciprocals from 1 to\" , rep_num , \"is: \", value)"
   ]
  },
  {
   "cell_type": "markdown",
   "id": "ad43940a-a32c-4653-a133-5da29b8b17af",
   "metadata": {},
   "source": [
    "#### Write a program that prompts the user to enter a number and repeats this process 5 times. The program should accumulate the numbers entered and then display the final running total.\n",
    "#### Sample Output:\n",
    "- Enter a number: 10\n",
    "- Enter a number: 15\n",
    "- Enter a number: 35\n",
    "- Enter a number: 40\n",
    "- Enter a number: 50\n",
    "- The final running total is: 150"
   ]
  },
  {
   "cell_type": "code",
   "execution_count": 63,
   "id": "973ffdf6-9257-4c72-90d0-16448d9e77da",
   "metadata": {},
   "outputs": [
    {
     "name": "stdin",
     "output_type": "stream",
     "text": [
      "Enter a number:  10\n",
      "Enter a number:  15\n",
      "Enter a number:  35\n",
      "Enter a number:  40\n",
      "Enter a number:  50\n"
     ]
    },
    {
     "name": "stdout",
     "output_type": "stream",
     "text": [
      "The final running total is: 150\n"
     ]
    }
   ],
   "source": [
    "total = 0\n",
    "for k in range(0, 5):\n",
    "    total += int(input(\"Enter a number: \"))\n",
    "print(f\"The final running total is: {total}\")"
   ]
  },
  {
   "cell_type": "markdown",
   "id": "81d891c0-696b-4afe-b312-88850a4b5c4d",
   "metadata": {},
   "source": [
    "#### Write a program that prompts the user to enter a positive integer and calculates its factorial."
   ]
  },
  {
   "cell_type": "code",
   "execution_count": 78,
   "id": "4e06b57a-a668-4cb2-9410-a34a1b9b6b4d",
   "metadata": {},
   "outputs": [
    {
     "name": "stdin",
     "output_type": "stream",
     "text": [
      "Enter a positive integer:  10\n"
     ]
    },
    {
     "name": "stdout",
     "output_type": "stream",
     "text": [
      "The factorial of 10 is  3628800\n"
     ]
    }
   ],
   "source": [
    "fac_num = int(input(\"Enter a positive integer: \"))\n",
    "n = 1\n",
    "for i in range(1, fac_num):\n",
    "    n += n*i\n",
    "print(f\"The factorial of {fac_num} is \",n)"
   ]
  },
  {
   "cell_type": "code",
   "execution_count": 122,
   "id": "09c2cec6-8472-438e-91a8-399a4a6a8229",
   "metadata": {},
   "outputs": [
    {
     "name": "stdin",
     "output_type": "stream",
     "text": [
      "Enter your base 2\n",
      "Enter your power 6\n"
     ]
    },
    {
     "name": "stdout",
     "output_type": "stream",
     "text": [
      "64\n"
     ]
    }
   ],
   "source": [
    "base = int(input(\"Enter your base\"))\n",
    "n_p = int(input(\"Enter your power\"))\n",
    "result = 1\n",
    "for n_p in range(0, n_p):\n",
    "    result *= base\n",
    "print(result)"
   ]
  },
  {
   "cell_type": "code",
   "execution_count": null,
   "id": "a43a2b87-4a3a-4dd4-8230-5d8c1152a979",
   "metadata": {},
   "outputs": [],
   "source": []
  }
 ],
 "metadata": {
  "kernelspec": {
   "display_name": "Python 3 (ipykernel)",
   "language": "python",
   "name": "python3"
  },
  "language_info": {
   "codemirror_mode": {
    "name": "ipython",
    "version": 3
   },
   "file_extension": ".py",
   "mimetype": "text/x-python",
   "name": "python",
   "nbconvert_exporter": "python",
   "pygments_lexer": "ipython3",
   "version": "3.12.7"
  }
 },
 "nbformat": 4,
 "nbformat_minor": 5
}
