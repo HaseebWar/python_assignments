{
 "cells": [
  {
   "cell_type": "markdown",
   "id": "37200df2-bf63-4c46-8f89-f2b1da5f4fe1",
   "metadata": {},
   "source": [
    "### Write a program that prompts the user to input a number and display if the number is even or odd."
   ]
  },
  {
   "cell_type": "code",
   "execution_count": 6,
   "id": "c16813a1-9d60-46e7-bedb-3dff16ece004",
   "metadata": {},
   "outputs": [
    {
     "name": "stdin",
     "output_type": "stream",
     "text": [
      "Enter any number 7\n"
     ]
    },
    {
     "name": "stdout",
     "output_type": "stream",
     "text": [
      "This is an Odd number\n"
     ]
    }
   ],
   "source": [
    "input_value = int(input(\"Enter any number\"))\n",
    "\n",
    "if (input_value % 2) == 0:\n",
    "    print(\"This is an Even number\")\n",
    "else:\n",
    "    print(\"This is an Odd number\")"
   ]
  },
  {
   "cell_type": "markdown",
   "id": "453a0a65-bbf8-4acc-b252-05eb4ef17376",
   "metadata": {},
   "source": [
    "### Write a Python program that takes an age as input and determines whether a person is eligible to vote. If the age is 18 or above, print \"You are eligible to vote.\" Otherwise, print \"You are not eligible to vote yet.\"."
   ]
  },
  {
   "cell_type": "code",
   "execution_count": 18,
   "id": "5ebb8f73-5db4-4d30-b824-74232daf0215",
   "metadata": {},
   "outputs": [
    {
     "name": "stdin",
     "output_type": "stream",
     "text": [
      "Enter your Age 18\n"
     ]
    },
    {
     "name": "stdout",
     "output_type": "stream",
     "text": [
      "You are eligible to vote.\n"
     ]
    }
   ],
   "source": [
    "age_value = int(input(\"Enter your Age\"))\n",
    "\n",
    "if age_value >= 18:\n",
    "    print(\"You are eligible to vote.\")\n",
    "else:\n",
    "    print(\"You are not eligible to vote yet.\")"
   ]
  },
  {
   "cell_type": "markdown",
   "id": "101e5028-3592-4754-a27c-6faecec25aa2",
   "metadata": {},
   "source": [
    "### Write a program that prompts the user to input two integers and outputs the largest."
   ]
  },
  {
   "cell_type": "code",
   "execution_count": 23,
   "id": "c4121fba-3494-4a6c-b989-ecae15676333",
   "metadata": {},
   "outputs": [
    {
     "name": "stdin",
     "output_type": "stream",
     "text": [
      "Enter your First Number 20\n",
      "Enter your Second Number 100\n"
     ]
    },
    {
     "name": "stdout",
     "output_type": "stream",
     "text": [
      "Larger Number is:  100\n"
     ]
    }
   ],
   "source": [
    "num_1 = int(input(\"Enter your First Number\"))\n",
    "num_2 = int(input(\"Enter your Second Number\"))\n",
    "\n",
    "if num_1 > num_2:\n",
    "    print(\"Larger Number is: \",num_1)\n",
    "else:\n",
    "    print(\"Larger Number is: \",num_2)"
   ]
  },
  {
   "cell_type": "markdown",
   "id": "e6e52afd-bd27-4a9f-8aa4-02efdf577d3f",
   "metadata": {},
   "source": [
    "### Write a program that prompts the user to enter a number and determines whether it is positive, negative, or zero. The program should print \"Positive\" if the number is greater than 0, \"Negative\" if the number is less than 0, and \"Zero\" if the number is 0."
   ]
  },
  {
   "cell_type": "code",
   "execution_count": 34,
   "id": "472b0ccd-2c83-44d9-9517-e46ca36ed39a",
   "metadata": {},
   "outputs": [
    {
     "name": "stdin",
     "output_type": "stream",
     "text": [
      "Enter your Number -100\n"
     ]
    },
    {
     "name": "stdout",
     "output_type": "stream",
     "text": [
      "Negative\n"
     ]
    }
   ],
   "source": [
    "my_num = int(input(\"Enter your Number\"))\n",
    "\n",
    "if my_num > 0:\n",
    "    print(\"Positive\")\n",
    "elif (my_num < 0):\n",
    "    print(\"Negative\")\n",
    "else:\n",
    "    print(\"Please enter the numeric value\")"
   ]
  },
  {
   "cell_type": "markdown",
   "id": "d6960a1b-8ac1-4d3d-8fe0-46653396b5a5",
   "metadata": {},
   "source": [
    "### Write a program that prompts the user to enter their age and prints the corresponding age group. The program should use the following age groups:\n",
    "- 0-12: Child\n",
    "- 13-19: Teenager\n",
    "- 20-59: Adult\n",
    "- 60 and above: Senior Citizen"
   ]
  },
  {
   "cell_type": "code",
   "execution_count": 48,
   "id": "2433df55-f216-4158-9fdb-d4349e749b56",
   "metadata": {},
   "outputs": [
    {
     "name": "stdin",
     "output_type": "stream",
     "text": [
      "Enter your Number 130\n"
     ]
    },
    {
     "name": "stdout",
     "output_type": "stream",
     "text": [
      "Your are Immortal\n"
     ]
    }
   ],
   "source": [
    "my_age = int(input(\"Enter your Number\"))\n",
    "\n",
    "if my_age >=0 and my_age <=12:\n",
    "    print(\"Child\")\n",
    "elif (my_age >=13 and my_age <=19):\n",
    "    print(\"Teenager\")\n",
    "elif (my_age >=20 and my_age <=59):\n",
    "    print(\"Adult\")\n",
    "elif (my_age >=60 and my_age <=120):\n",
    "    print(\"Senior Citizen\")\n",
    "else:\n",
    "    print(\"Your are Immortal\")"
   ]
  },
  {
   "cell_type": "markdown",
   "id": "4882dcec-0b2e-4f55-a65a-6e205e8507f2",
   "metadata": {},
   "source": [
    "### Write a program that prompts the user to input a number from 1 to 7. The program should display the corresponding day for the given number. For example, if the user types 1, the output should be Sunday. If the user types 7, the output should be Saturday. If the number is not between 1 to 7 user should get error message as shown in sample output."
   ]
  },
  {
   "cell_type": "code",
   "execution_count": 65,
   "id": "9d28a93b-aea0-4955-a46c-f50b17d1ec23",
   "metadata": {},
   "outputs": [
    {
     "name": "stdin",
     "output_type": "stream",
     "text": [
      "Enter your Number between 1 to 7 3\n"
     ]
    },
    {
     "name": "stdout",
     "output_type": "stream",
     "text": [
      "Tuesday\n"
     ]
    }
   ],
   "source": [
    "my_day_num = int(input(\"Enter your Number between 1 to 7\"))\n",
    "if my_day_num == 1:\n",
    "    print(\"Sunday\")\n",
    "elif (my_day_num == 2):\n",
    "    print(\"Monday\")\n",
    "elif (my_day_num == 3):\n",
    "    print(\"Tuesday\")\n",
    "elif (my_day_num == 4):\n",
    "    print(\"Wednesday\")\n",
    "elif (my_day_num == 5):\n",
    "    print(\"Thursday\")\n",
    "elif (my_day_num == 6):\n",
    "    print(\"Friday\")\n",
    "elif (my_day_num == 7):\n",
    "    print(\"Satruday\")\n",
    "else:\n",
    "    print(\"The number should be in between 1 to 7\")"
   ]
  },
  {
   "cell_type": "markdown",
   "id": "3f364df3-7290-4018-9c2a-265dc086b781",
   "metadata": {},
   "source": [
    "### Write a program that prompts the user to enter their weight (in kilograms) and height (in meters). The program should calculate the Body Mass Index (BMI) using the formula: BMI = weight / (height * height). The program should then classify the BMI into one of the following categories:\n",
    "- less than 18.5 - Underweight\n",
    "- BMI between 18.5 and 24.9 - Normal weight\n",
    "- BMI between 25 and 29.9 - Overweight\n",
    "- BMI 30 or greater - Obesity"
   ]
  },
  {
   "cell_type": "code",
   "execution_count": 75,
   "id": "6f9f6883-7c59-476d-bb54-27739bd15d2d",
   "metadata": {},
   "outputs": [
    {
     "name": "stdin",
     "output_type": "stream",
     "text": [
      "Enter your Weight 50\n",
      "Enter your Height in Meters 1.6764\n"
     ]
    },
    {
     "name": "stdout",
     "output_type": "stream",
     "text": [
      "Underweight\n"
     ]
    }
   ],
   "source": [
    "weight = int(input(\"Enter your Weight\"))\n",
    "height = float(input(\"Enter your Height in Meters\"))\n",
    "\n",
    "BMI = weight / (height * height)\n",
    "\n",
    "if BMI <= 18.5:\n",
    "    print(\"Underweight\")\n",
    "elif (BMI >= 18.5 and BMI >= 24.9):\n",
    "    print(\"Normal weight\")\n",
    "elif (BMI >= 25 and BMI >= 29.9):\n",
    "    print(\"Overweight\")\n",
    "elif (BMI >= 30 and BMI >= 100):\n",
    "    print(\"Obesity\")\n",
    "else:\n",
    "    print(\"Gym jao\")"
   ]
  },
  {
   "cell_type": "markdown",
   "id": "dfebcc61-f99b-4a4d-9bad-fbbcf644fafe",
   "metadata": {},
   "source": [
    "### The marks obtained by a student in 3 different subjects are input by the user. Your program should calculate the average of subjects and display the grade. The student gets a grade as per the following rules:\n",
    "#### Average Grade\n",
    "- 90-100 A\n",
    "- 80-89 B\n",
    "- 70-79 C\n",
    "- 60-69 D\n",
    "- 0-59 F"
   ]
  },
  {
   "cell_type": "code",
   "execution_count": 79,
   "id": "7a8ec931-930f-4b81-be04-ff3d2e792cc0",
   "metadata": {},
   "outputs": [
    {
     "name": "stdin",
     "output_type": "stream",
     "text": [
      "Enter marks for Subject 1:  100\n",
      "Enter marks for Subject 2:  50\n",
      "Enter marks for Subject 3:  50\n"
     ]
    },
    {
     "name": "stdout",
     "output_type": "stream",
     "text": [
      "Average Marks: 66.67\n",
      "Grade: D\n"
     ]
    }
   ],
   "source": [
    "subject1 = float(input(\"Enter marks for Subject 1: \"))\n",
    "subject2 = float(input(\"Enter marks for Subject 2: \"))\n",
    "subject3 = float(input(\"Enter marks for Subject 3: \"))\n",
    "\n",
    "average = (subject1 + subject2 + subject3) / 3\n",
    "\n",
    "# Determine the grade\n",
    "if 90 <= average <= 100:\n",
    "    grade = \"A\"\n",
    "elif 80 <= average < 90:\n",
    "    grade = \"B\"\n",
    "elif 70 <= average < 80:\n",
    "    grade = \"C\"\n",
    "elif 60 <= average < 70:\n",
    "    grade = \"D\"\n",
    "elif 0 <= average < 60:\n",
    "    grade = \"F\"\n",
    "else:\n",
    "    grade = \"Invalid average score\"  # Handle unexpected input\n",
    "\n",
    "print(f\"Average Marks: {average:.2f}\")\n",
    "print(f\"Grade: {grade}\")"
   ]
  },
  {
   "cell_type": "markdown",
   "id": "32bd4828-7211-474a-92c3-66de28622584",
   "metadata": {},
   "source": [
    "#### The roots of the quadratic equation ax2  + bx + c = 0, a ≠ 0 are given by the following formula: In this formula, the term b2\n",
    " - 4ac is called the discriminant. If b2\n",
    " - 4ac = 0, then the\n",
    "#### equation has two equal roots. If b2\n",
    " - 4ac > 0, the equation has two real roots. If b2\n",
    " - 4ac < 0, the equation has two\n",
    "complex roots.\n",
    "#### Write a program that prompts the user to input the value of a (the coefficient of x2), b (the coefficient of x), and c (the constant term) and outputs the roots of the quadratic equation. \n"
   ]
  },
  {
   "cell_type": "code",
   "execution_count": 4,
   "id": "1dab3d49-5b9a-4b6c-8704-310195d5914a",
   "metadata": {},
   "outputs": [
    {
     "name": "stdin",
     "output_type": "stream",
     "text": [
      "Enter the coefficient a (a ≠ 0):  2\n",
      "Enter the coefficient b:  2\n",
      "Enter the constant c:  2\n"
     ]
    },
    {
     "name": "stdout",
     "output_type": "stream",
     "text": [
      "The equation has two complex roots: (-0.5+0.8660254037844386j) and (-0.5-0.8660254037844386j)\n"
     ]
    }
   ],
   "source": [
    "import cmath\n",
    "\n",
    "a = float(input(\"Enter the coefficient a (a ≠ 0): \"))\n",
    "b = float(input(\"Enter the coefficient b: \"))\n",
    "c = float(input(\"Enter the constant c: \"))\n",
    "\n",
    "discriminant = b**2 - 4*a*c\n",
    "\n",
    "root1 = (-b + cmath.sqrt(discriminant)) / (2 * a)\n",
    "root2 = (-b - cmath.sqrt(discriminant)) / (2 * a)\n",
    "\n",
    "if discriminant > 0:\n",
    "    print(f\"The equation has two real roots: {root1.real} and {root2.real}\")\n",
    "else:\n",
    "    print(f\"The equation has two complex roots: {root1} and {root2}\")"
   ]
  },
  {
   "cell_type": "markdown",
   "id": "54f65767-48c1-4f3f-bc00-80a57bb1cac8",
   "metadata": {},
   "source": [
    " #### Write a program that prompts the user to enter three numbers and sorts them in ascending order. The program should print the sorted numbers."
   ]
  },
  {
   "cell_type": "code",
   "execution_count": 40,
   "id": "102996c1-e871-4248-8218-86863466c954",
   "metadata": {},
   "outputs": [
    {
     "name": "stdin",
     "output_type": "stream",
     "text": [
      "Enter the number 1:  22\n",
      "Enter the number 2:  88\n",
      "Enter the number 3:  11\n"
     ]
    },
    {
     "name": "stdout",
     "output_type": "stream",
     "text": [
      "11 22 88\n"
     ]
    }
   ],
   "source": [
    "num1 = int(input(\"Enter the number 1: \")) \n",
    "num2 = int(input(\"Enter the number 2: \")) \n",
    "num3 = int(input(\"Enter the number 3: \")) \n",
    "\n",
    "if num1 <= num2 and num1 <= num3:\n",
    "    if num2 <= num3:\n",
    "        print(num1, num2, num3)\n",
    "    else:\n",
    "        print(num1, num3, num2)\n",
    "elif num2 <= num1 and num2 <= num3:\n",
    "    if num1 <= num3:\n",
    "        print(num2, num1, num3)\n",
    "    else:\n",
    "        print(num2, num3, num1)\n",
    "else:\n",
    "    if num1 <= num2:\n",
    "        print(num3, num1, num2)\n",
    "    else:\n",
    "        print(num3, num2, num1)"
   ]
  },
  {
   "cell_type": "code",
   "execution_count": 20,
   "id": "b50020e0-9f73-44c3-ac31-fbb0b7efed6e",
   "metadata": {},
   "outputs": [
    {
     "data": {
      "text/plain": [
       "[4, 11, 55]"
      ]
     },
     "execution_count": 20,
     "metadata": {},
     "output_type": "execute_result"
    }
   ],
   "source": [
    "list_arr"
   ]
  },
  {
   "cell_type": "markdown",
   "id": "33756973-e85f-4332-8b41-0cba68ee92bc",
   "metadata": {},
   "source": [
    "#### Write a program that prompts the user to input three integers and outputs the largest."
   ]
  },
  {
   "cell_type": "code",
   "execution_count": 8,
   "id": "d236084e-bbbf-440d-839c-d9e3ecc9f998",
   "metadata": {},
   "outputs": [
    {
     "name": "stdin",
     "output_type": "stream",
     "text": [
      "Enter the number 1 22\n",
      "Enter the number 2 55\n",
      "Enter the number 3 88\n"
     ]
    },
    {
     "name": "stdout",
     "output_type": "stream",
     "text": [
      "Maxinum number is:  88\n"
     ]
    }
   ],
   "source": [
    "num11 = int(input(\"Enter the number 1\"))\n",
    "num22 = int(input(\"Enter the number 2\"))\n",
    "num33 = int(input(\"Enter the number 3\"))\n",
    "\n",
    "minimum = min(num11,num22,num33)\n",
    "print(\"Maxinum number is: \",maxinum)"
   ]
  },
  {
   "cell_type": "markdown",
   "id": "0176807a-e1bc-47fb-b145-07625e2c0f2b",
   "metadata": {},
   "source": [
    "#### Write a program that prompts the user to input a character and determine the character is vowel or consonant."
   ]
  },
  {
   "cell_type": "code",
   "execution_count": 48,
   "id": "59d1afb7-ecba-47d7-a6a3-5a71bd59b2bf",
   "metadata": {},
   "outputs": [
    {
     "name": "stdin",
     "output_type": "stream",
     "text": [
      "Enter a charater H\n"
     ]
    },
    {
     "name": "stdout",
     "output_type": "stream",
     "text": [
      "H is consonant\n"
     ]
    }
   ],
   "source": [
    "vow = input(\"Enter a charater\")\n",
    "if (vow == 'a' or \n",
    "    vow == 'e' or \n",
    "    vow == 'i' or \n",
    "    vow == 'o' or \n",
    "    vow == 'u' or\n",
    "    vow == 'A' or  \n",
    "    vow == 'E' or \n",
    "    vow == 'I' or \n",
    "    vow == 'O' or \n",
    "    vow == 'U'):\n",
    "    print(f\"{vow} is vowel\")\n",
    "else:\n",
    "    print(f\"{vow} is consonant\")"
   ]
  },
  {
   "cell_type": "markdown",
   "id": "e0a5ad6a-2294-42ac-bf67-77fa538fa6d3",
   "metadata": {},
   "source": [
    "#### Write a program that prompts the user to input a year and determine whether the year is a leap year or not. Leap Years are any year that can be evenly divided by 4. A year that is evenly divisible by 100 is a leap year only if it is also evenly divisible by 400. Example:\n",
    "- 1992 Leap Year\n",
    "- 2000 Leap Year\n",
    "- 1900 NOT a Leap Year\n",
    "- 1995 NOT a Leap Year "
   ]
  },
  {
   "cell_type": "code",
   "execution_count": 64,
   "id": "f3bfa747-75ef-4756-a036-2b0e2a321381",
   "metadata": {},
   "outputs": [
    {
     "name": "stdin",
     "output_type": "stream",
     "text": [
      "Enter your year 1995\n"
     ]
    },
    {
     "name": "stdout",
     "output_type": "stream",
     "text": [
      "1995 is not a Leap year \n"
     ]
    }
   ],
   "source": [
    "year = int(input(\"Enter your year\"))\n",
    "\n",
    "if (year % 4 == 0 and year % 100 != 0):\n",
    "    print(f\"{year} is a Leap year \")\n",
    "else:\n",
    "    print(f\"{year} is not a Leap year \")"
   ]
  },
  {
   "cell_type": "markdown",
   "id": "2412ba71-4610-4d4c-9001-5399f996f313",
   "metadata": {},
   "source": [
    "#### Write a program that prompts the user to input number of calls and calculate the monthly telephone bills as per the following rule: \n",
    "- Minimum Rs. 200 for up to 100 calls.\n",
    "- Plus Rs. 0.60 per call for next 50 calls.\n",
    "- Plus Rs. 0.50 per call for next 50 calls.\n",
    "- Plus Rs. 0.40 per call for any call beyond 200 calls. "
   ]
  },
  {
   "cell_type": "code",
   "execution_count": 69,
   "id": "a49d2a5f-1be8-4169-8d93-ddf1e73a799a",
   "metadata": {},
   "outputs": [
    {
     "name": "stdin",
     "output_type": "stream",
     "text": [
      "Enter the number of calls made:  25\n"
     ]
    },
    {
     "name": "stdout",
     "output_type": "stream",
     "text": [
      "The total telephone bill is: Rs. 200.00\n"
     ]
    }
   ],
   "source": [
    "calls = int(input(\"Enter the number of calls made: \"))\n",
    "\n",
    "if calls <= 100:\n",
    "    bill = 200\n",
    "elif calls <= 150:\n",
    "    bill = 200 + (calls - 100) * 0.60\n",
    "elif calls <= 200:\n",
    "    bill = 200 + (50 * 0.60) + (calls - 150) * 0.50\n",
    "else:\n",
    "    bill = 200 + (50 * 0.60) + (50 * 0.50) + (calls - 200) * 0.40\n",
    "    \n",
    "print(f\"The total telephone bill is: Rs. {bill:.2f}\")"
   ]
  }
 ],
 "metadata": {
  "kernelspec": {
   "display_name": "Python 3 (ipykernel)",
   "language": "python",
   "name": "python3"
  },
  "language_info": {
   "codemirror_mode": {
    "name": "ipython",
    "version": 3
   },
   "file_extension": ".py",
   "mimetype": "text/x-python",
   "name": "python",
   "nbconvert_exporter": "python",
   "pygments_lexer": "ipython3",
   "version": "3.12.7"
  }
 },
 "nbformat": 4,
 "nbformat_minor": 5
}
